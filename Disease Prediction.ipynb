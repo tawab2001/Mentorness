{
 "cells": [
  {
   "cell_type": "code",
   "execution_count": 2,
   "id": "d194d608",
   "metadata": {},
   "outputs": [
    {
     "name": "stdout",
     "output_type": "stream",
     "text": [
      "Collecting tensorflow\n",
      "  Using cached tensorflow-2.16.1-cp311-cp311-win_amd64.whl.metadata (3.5 kB)\n",
      "Collecting tensorflow-intel==2.16.1 (from tensorflow)\n",
      "  Using cached tensorflow_intel-2.16.1-cp311-cp311-win_amd64.whl.metadata (5.0 kB)\n",
      "Collecting absl-py>=1.0.0 (from tensorflow-intel==2.16.1->tensorflow)\n",
      "  Using cached absl_py-2.1.0-py3-none-any.whl.metadata (2.3 kB)\n",
      "Collecting astunparse>=1.6.0 (from tensorflow-intel==2.16.1->tensorflow)\n",
      "  Using cached astunparse-1.6.3-py2.py3-none-any.whl.metadata (4.4 kB)\n",
      "Collecting flatbuffers>=23.5.26 (from tensorflow-intel==2.16.1->tensorflow)\n",
      "  Using cached flatbuffers-24.3.25-py2.py3-none-any.whl.metadata (850 bytes)\n",
      "Collecting gast!=0.5.0,!=0.5.1,!=0.5.2,>=0.2.1 (from tensorflow-intel==2.16.1->tensorflow)\n",
      "  Using cached gast-0.5.4-py3-none-any.whl.metadata (1.3 kB)\n",
      "Collecting google-pasta>=0.1.1 (from tensorflow-intel==2.16.1->tensorflow)\n",
      "  Using cached google_pasta-0.2.0-py3-none-any.whl.metadata (814 bytes)\n",
      "Collecting h5py>=3.10.0 (from tensorflow-intel==2.16.1->tensorflow)\n",
      "  Using cached h5py-3.11.0-cp311-cp311-win_amd64.whl.metadata (2.5 kB)\n",
      "Collecting libclang>=13.0.0 (from tensorflow-intel==2.16.1->tensorflow)\n",
      "  Using cached libclang-18.1.1-py2.py3-none-win_amd64.whl.metadata (5.3 kB)\n",
      "Collecting ml-dtypes~=0.3.1 (from tensorflow-intel==2.16.1->tensorflow)\n",
      "  Using cached ml_dtypes-0.3.2-cp311-cp311-win_amd64.whl.metadata (20 kB)\n",
      "Collecting opt-einsum>=2.3.2 (from tensorflow-intel==2.16.1->tensorflow)\n",
      "  Using cached opt_einsum-3.3.0-py3-none-any.whl.metadata (6.5 kB)\n",
      "Requirement already satisfied: packaging in c:\\users\\hp\\anaconda33\\lib\\site-packages (from tensorflow-intel==2.16.1->tensorflow) (23.1)\n",
      "Requirement already satisfied: protobuf!=4.21.0,!=4.21.1,!=4.21.2,!=4.21.3,!=4.21.4,!=4.21.5,<5.0.0dev,>=3.20.3 in c:\\users\\hp\\anaconda33\\lib\\site-packages (from tensorflow-intel==2.16.1->tensorflow) (3.20.3)\n",
      "Requirement already satisfied: requests<3,>=2.21.0 in c:\\users\\hp\\anaconda33\\lib\\site-packages (from tensorflow-intel==2.16.1->tensorflow) (2.31.0)\n",
      "Requirement already satisfied: setuptools in c:\\users\\hp\\anaconda33\\lib\\site-packages (from tensorflow-intel==2.16.1->tensorflow) (68.2.2)\n",
      "Requirement already satisfied: six>=1.12.0 in c:\\users\\hp\\anaconda33\\lib\\site-packages (from tensorflow-intel==2.16.1->tensorflow) (1.16.0)\n",
      "Collecting termcolor>=1.1.0 (from tensorflow-intel==2.16.1->tensorflow)\n",
      "  Using cached termcolor-2.4.0-py3-none-any.whl.metadata (6.1 kB)\n",
      "Requirement already satisfied: typing-extensions>=3.6.6 in c:\\users\\hp\\anaconda33\\lib\\site-packages (from tensorflow-intel==2.16.1->tensorflow) (4.9.0)\n",
      "Requirement already satisfied: wrapt>=1.11.0 in c:\\users\\hp\\anaconda33\\lib\\site-packages (from tensorflow-intel==2.16.1->tensorflow) (1.14.1)\n",
      "Collecting grpcio<2.0,>=1.24.3 (from tensorflow-intel==2.16.1->tensorflow)\n",
      "  Using cached grpcio-1.63.0-cp311-cp311-win_amd64.whl.metadata (3.3 kB)\n",
      "Collecting tensorboard<2.17,>=2.16 (from tensorflow-intel==2.16.1->tensorflow)\n",
      "  Using cached tensorboard-2.16.2-py3-none-any.whl.metadata (1.6 kB)\n",
      "Collecting keras>=3.0.0 (from tensorflow-intel==2.16.1->tensorflow)\n",
      "  Using cached keras-3.3.3-py3-none-any.whl.metadata (5.7 kB)\n",
      "Collecting tensorflow-io-gcs-filesystem>=0.23.1 (from tensorflow-intel==2.16.1->tensorflow)\n",
      "  Using cached tensorflow_io_gcs_filesystem-0.31.0-cp311-cp311-win_amd64.whl.metadata (14 kB)\n",
      "Requirement already satisfied: numpy<2.0.0,>=1.23.5 in c:\\users\\hp\\anaconda33\\lib\\site-packages (from tensorflow-intel==2.16.1->tensorflow) (1.26.4)\n",
      "Requirement already satisfied: wheel<1.0,>=0.23.0 in c:\\users\\hp\\anaconda33\\lib\\site-packages (from astunparse>=1.6.0->tensorflow-intel==2.16.1->tensorflow) (0.41.2)\n",
      "Requirement already satisfied: rich in c:\\users\\hp\\anaconda33\\lib\\site-packages (from keras>=3.0.0->tensorflow-intel==2.16.1->tensorflow) (13.3.5)\n",
      "Collecting namex (from keras>=3.0.0->tensorflow-intel==2.16.1->tensorflow)\n",
      "  Using cached namex-0.0.8-py3-none-any.whl.metadata (246 bytes)\n",
      "Collecting optree (from keras>=3.0.0->tensorflow-intel==2.16.1->tensorflow)\n",
      "  Using cached optree-0.11.0-cp311-cp311-win_amd64.whl.metadata (46 kB)\n",
      "Requirement already satisfied: charset-normalizer<4,>=2 in c:\\users\\hp\\anaconda33\\lib\\site-packages (from requests<3,>=2.21.0->tensorflow-intel==2.16.1->tensorflow) (2.0.4)\n",
      "Requirement already satisfied: idna<4,>=2.5 in c:\\users\\hp\\anaconda33\\lib\\site-packages (from requests<3,>=2.21.0->tensorflow-intel==2.16.1->tensorflow) (3.4)\n",
      "Requirement already satisfied: urllib3<3,>=1.21.1 in c:\\users\\hp\\anaconda33\\lib\\site-packages (from requests<3,>=2.21.0->tensorflow-intel==2.16.1->tensorflow) (2.0.7)\n",
      "Requirement already satisfied: certifi>=2017.4.17 in c:\\users\\hp\\anaconda33\\lib\\site-packages (from requests<3,>=2.21.0->tensorflow-intel==2.16.1->tensorflow) (2024.2.2)\n",
      "Requirement already satisfied: markdown>=2.6.8 in c:\\users\\hp\\anaconda33\\lib\\site-packages (from tensorboard<2.17,>=2.16->tensorflow-intel==2.16.1->tensorflow) (3.4.1)\n",
      "Collecting tensorboard-data-server<0.8.0,>=0.7.0 (from tensorboard<2.17,>=2.16->tensorflow-intel==2.16.1->tensorflow)\n",
      "  Using cached tensorboard_data_server-0.7.2-py3-none-any.whl.metadata (1.1 kB)\n",
      "Requirement already satisfied: werkzeug>=1.0.1 in c:\\users\\hp\\anaconda33\\lib\\site-packages (from tensorboard<2.17,>=2.16->tensorflow-intel==2.16.1->tensorflow) (2.2.3)\n",
      "Requirement already satisfied: MarkupSafe>=2.1.1 in c:\\users\\hp\\anaconda33\\lib\\site-packages (from werkzeug>=1.0.1->tensorboard<2.17,>=2.16->tensorflow-intel==2.16.1->tensorflow) (2.1.3)\n",
      "Requirement already satisfied: markdown-it-py<3.0.0,>=2.2.0 in c:\\users\\hp\\anaconda33\\lib\\site-packages (from rich->keras>=3.0.0->tensorflow-intel==2.16.1->tensorflow) (2.2.0)\n",
      "Requirement already satisfied: pygments<3.0.0,>=2.13.0 in c:\\users\\hp\\anaconda33\\lib\\site-packages (from rich->keras>=3.0.0->tensorflow-intel==2.16.1->tensorflow) (2.15.1)\n",
      "Requirement already satisfied: mdurl~=0.1 in c:\\users\\hp\\anaconda33\\lib\\site-packages (from markdown-it-py<3.0.0,>=2.2.0->rich->keras>=3.0.0->tensorflow-intel==2.16.1->tensorflow) (0.1.0)\n",
      "Using cached tensorflow-2.16.1-cp311-cp311-win_amd64.whl (2.1 kB)\n",
      "Using cached tensorflow_intel-2.16.1-cp311-cp311-win_amd64.whl (377.0 MB)\n",
      "Using cached absl_py-2.1.0-py3-none-any.whl (133 kB)\n",
      "Using cached astunparse-1.6.3-py2.py3-none-any.whl (12 kB)\n",
      "Using cached flatbuffers-24.3.25-py2.py3-none-any.whl (26 kB)\n",
      "Using cached gast-0.5.4-py3-none-any.whl (19 kB)\n",
      "Using cached google_pasta-0.2.0-py3-none-any.whl (57 kB)\n",
      "Using cached grpcio-1.63.0-cp311-cp311-win_amd64.whl (3.9 MB)\n",
      "Using cached h5py-3.11.0-cp311-cp311-win_amd64.whl (3.0 MB)\n",
      "Using cached keras-3.3.3-py3-none-any.whl (1.1 MB)\n",
      "Using cached libclang-18.1.1-py2.py3-none-win_amd64.whl (26.4 MB)\n",
      "Using cached ml_dtypes-0.3.2-cp311-cp311-win_amd64.whl (127 kB)\n",
      "Using cached opt_einsum-3.3.0-py3-none-any.whl (65 kB)\n",
      "Using cached tensorboard-2.16.2-py3-none-any.whl (5.5 MB)\n",
      "Using cached tensorflow_io_gcs_filesystem-0.31.0-cp311-cp311-win_amd64.whl (1.5 MB)\n",
      "Using cached termcolor-2.4.0-py3-none-any.whl (7.7 kB)\n",
      "Using cached tensorboard_data_server-0.7.2-py3-none-any.whl (2.4 kB)\n",
      "Using cached namex-0.0.8-py3-none-any.whl (5.8 kB)\n",
      "Using cached optree-0.11.0-cp311-cp311-win_amd64.whl (245 kB)\n",
      "Installing collected packages: namex, libclang, flatbuffers, termcolor, tensorflow-io-gcs-filesystem, tensorboard-data-server, optree, opt-einsum, ml-dtypes, h5py, grpcio, google-pasta, gast, astunparse, absl-py, tensorboard, keras, tensorflow-intel, tensorflow\n",
      "  Attempting uninstall: h5py\n",
      "    Found existing installation: h5py 3.9.0\n",
      "    Uninstalling h5py-3.9.0:\n",
      "      Successfully uninstalled h5py-3.9.0\n",
      "Successfully installed absl-py-2.1.0 astunparse-1.6.3 flatbuffers-24.3.25 gast-0.5.4 google-pasta-0.2.0 grpcio-1.63.0 h5py-3.11.0 keras-3.3.3 libclang-18.1.1 ml-dtypes-0.3.2 namex-0.0.8 opt-einsum-3.3.0 optree-0.11.0 tensorboard-2.16.2 tensorboard-data-server-0.7.2 tensorflow-2.16.1 tensorflow-intel-2.16.1 tensorflow-io-gcs-filesystem-0.31.0 termcolor-2.4.0\n",
      "Note: you may need to restart the kernel to use updated packages.\n"
     ]
    }
   ],
   "source": [
    "pip install tensorflow"
   ]
  },
  {
   "cell_type": "code",
   "execution_count": 33,
   "id": "3a374c46",
   "metadata": {},
   "outputs": [],
   "source": [
    "import pandas as pd\n",
    "import numpy as np\n",
    "import seaborn as sns\n",
    "import tensorflow as tf\n",
    "from tensorflow.keras.utils import to_categorical\n",
    "from sklearn.preprocessing import StandardScaler, LabelEncoder\n",
    "from sklearn.metrics import accuracy_score, precision_score, recall_score, f1_score, confusion_matrix\n",
    "import matplotlib.pyplot as plt\n",
    "import seaborn as sns\n",
    "from tensorflow.keras.models import Sequential\n",
    "from tensorflow.keras.layers import Dense\n"
   ]
  },
  {
   "cell_type": "code",
   "execution_count": 34,
   "id": "f4686624",
   "metadata": {},
   "outputs": [],
   "source": [
    "train_data=pd.read_csv(\"Train_data.csv\")\n",
    "test_data=pd.read_csv(\"test_data.csv\")\n"
   ]
  },
  {
   "cell_type": "markdown",
   "id": "f8820546",
   "metadata": {},
   "source": [
    "\n",
    "# Data clean"
   ]
  },
  {
   "cell_type": "code",
   "execution_count": 35,
   "id": "37fca348",
   "metadata": {},
   "outputs": [
    {
     "data": {
      "text/plain": [
       "Glucose                                      0\n",
       "Cholesterol                                  0\n",
       "Hemoglobin                                   0\n",
       "Platelets                                    0\n",
       "White Blood Cells                            0\n",
       "Red Blood Cells                              0\n",
       "Hematocrit                                   0\n",
       "Mean Corpuscular Volume                      0\n",
       "Mean Corpuscular Hemoglobin                  0\n",
       "Mean Corpuscular Hemoglobin Concentration    0\n",
       "Insulin                                      0\n",
       "BMI                                          0\n",
       "Systolic Blood Pressure                      0\n",
       "Diastolic Blood Pressure                     0\n",
       "Triglycerides                                0\n",
       "HbA1c                                        0\n",
       "LDL Cholesterol                              0\n",
       "HDL Cholesterol                              0\n",
       "ALT                                          0\n",
       "AST                                          0\n",
       "Heart Rate                                   0\n",
       "Creatinine                                   0\n",
       "Troponin                                     0\n",
       "C-reactive Protein                           0\n",
       "Disease                                      0\n",
       "dtype: int64"
      ]
     },
     "execution_count": 35,
     "metadata": {},
     "output_type": "execute_result"
    }
   ],
   "source": [
    "train_data.isnull().sum()"
   ]
  },
  {
   "cell_type": "code",
   "execution_count": 36,
   "id": "cabcb43e",
   "metadata": {},
   "outputs": [
    {
     "data": {
      "text/plain": [
       "Glucose                                      0\n",
       "Cholesterol                                  0\n",
       "Hemoglobin                                   0\n",
       "Platelets                                    0\n",
       "White Blood Cells                            0\n",
       "Red Blood Cells                              0\n",
       "Hematocrit                                   0\n",
       "Mean Corpuscular Volume                      0\n",
       "Mean Corpuscular Hemoglobin                  0\n",
       "Mean Corpuscular Hemoglobin Concentration    0\n",
       "Insulin                                      0\n",
       "BMI                                          0\n",
       "Systolic Blood Pressure                      0\n",
       "Diastolic Blood Pressure                     0\n",
       "Triglycerides                                0\n",
       "HbA1c                                        0\n",
       "LDL Cholesterol                              0\n",
       "HDL Cholesterol                              0\n",
       "ALT                                          0\n",
       "AST                                          0\n",
       "Heart Rate                                   0\n",
       "Creatinine                                   0\n",
       "Troponin                                     0\n",
       "C-reactive Protein                           0\n",
       "Disease                                      0\n",
       "dtype: int64"
      ]
     },
     "execution_count": 36,
     "metadata": {},
     "output_type": "execute_result"
    }
   ],
   "source": [
    "test_data.isnull().sum()"
   ]
  },
  {
   "cell_type": "markdown",
   "id": "de7ebb1c",
   "metadata": {},
   "source": [
    "# Preformin Exploratory Data Analysis(PEDA)"
   ]
  },
  {
   "cell_type": "code",
   "execution_count": 37,
   "id": "0b757785",
   "metadata": {},
   "outputs": [
    {
     "name": "stdout",
     "output_type": "stream",
     "text": [
      "<class 'pandas.core.frame.DataFrame'>\n",
      "RangeIndex: 2351 entries, 0 to 2350\n",
      "Data columns (total 25 columns):\n",
      " #   Column                                     Non-Null Count  Dtype  \n",
      "---  ------                                     --------------  -----  \n",
      " 0   Glucose                                    2351 non-null   float64\n",
      " 1   Cholesterol                                2351 non-null   float64\n",
      " 2   Hemoglobin                                 2351 non-null   float64\n",
      " 3   Platelets                                  2351 non-null   float64\n",
      " 4   White Blood Cells                          2351 non-null   float64\n",
      " 5   Red Blood Cells                            2351 non-null   float64\n",
      " 6   Hematocrit                                 2351 non-null   float64\n",
      " 7   Mean Corpuscular Volume                    2351 non-null   float64\n",
      " 8   Mean Corpuscular Hemoglobin                2351 non-null   float64\n",
      " 9   Mean Corpuscular Hemoglobin Concentration  2351 non-null   float64\n",
      " 10  Insulin                                    2351 non-null   float64\n",
      " 11  BMI                                        2351 non-null   float64\n",
      " 12  Systolic Blood Pressure                    2351 non-null   float64\n",
      " 13  Diastolic Blood Pressure                   2351 non-null   float64\n",
      " 14  Triglycerides                              2351 non-null   float64\n",
      " 15  HbA1c                                      2351 non-null   float64\n",
      " 16  LDL Cholesterol                            2351 non-null   float64\n",
      " 17  HDL Cholesterol                            2351 non-null   float64\n",
      " 18  ALT                                        2351 non-null   float64\n",
      " 19  AST                                        2351 non-null   float64\n",
      " 20  Heart Rate                                 2351 non-null   float64\n",
      " 21  Creatinine                                 2351 non-null   float64\n",
      " 22  Troponin                                   2351 non-null   float64\n",
      " 23  C-reactive Protein                         2351 non-null   float64\n",
      " 24  Disease                                    2351 non-null   object \n",
      "dtypes: float64(24), object(1)\n",
      "memory usage: 459.3+ KB\n"
     ]
    }
   ],
   "source": [
    "train_data.info()"
   ]
  },
  {
   "cell_type": "code",
   "execution_count": 38,
   "id": "bd0af60f",
   "metadata": {},
   "outputs": [
    {
     "name": "stdout",
     "output_type": "stream",
     "text": [
      "<class 'pandas.core.frame.DataFrame'>\n",
      "RangeIndex: 486 entries, 0 to 485\n",
      "Data columns (total 25 columns):\n",
      " #   Column                                     Non-Null Count  Dtype  \n",
      "---  ------                                     --------------  -----  \n",
      " 0   Glucose                                    486 non-null    float64\n",
      " 1   Cholesterol                                486 non-null    float64\n",
      " 2   Hemoglobin                                 486 non-null    float64\n",
      " 3   Platelets                                  486 non-null    float64\n",
      " 4   White Blood Cells                          486 non-null    float64\n",
      " 5   Red Blood Cells                            486 non-null    float64\n",
      " 6   Hematocrit                                 486 non-null    float64\n",
      " 7   Mean Corpuscular Volume                    486 non-null    float64\n",
      " 8   Mean Corpuscular Hemoglobin                486 non-null    float64\n",
      " 9   Mean Corpuscular Hemoglobin Concentration  486 non-null    float64\n",
      " 10  Insulin                                    486 non-null    float64\n",
      " 11  BMI                                        486 non-null    float64\n",
      " 12  Systolic Blood Pressure                    486 non-null    float64\n",
      " 13  Diastolic Blood Pressure                   486 non-null    float64\n",
      " 14  Triglycerides                              486 non-null    float64\n",
      " 15  HbA1c                                      486 non-null    float64\n",
      " 16  LDL Cholesterol                            486 non-null    float64\n",
      " 17  HDL Cholesterol                            486 non-null    float64\n",
      " 18  ALT                                        486 non-null    float64\n",
      " 19  AST                                        486 non-null    float64\n",
      " 20  Heart Rate                                 486 non-null    float64\n",
      " 21  Creatinine                                 486 non-null    float64\n",
      " 22  Troponin                                   486 non-null    float64\n",
      " 23  C-reactive Protein                         486 non-null    float64\n",
      " 24  Disease                                    486 non-null    object \n",
      "dtypes: float64(24), object(1)\n",
      "memory usage: 95.1+ KB\n"
     ]
    }
   ],
   "source": [
    "test_data.info()"
   ]
  },
  {
   "cell_type": "code",
   "execution_count": 39,
   "id": "ac53dace",
   "metadata": {},
   "outputs": [
    {
     "data": {
      "text/html": [
       "<div>\n",
       "<style scoped>\n",
       "    .dataframe tbody tr th:only-of-type {\n",
       "        vertical-align: middle;\n",
       "    }\n",
       "\n",
       "    .dataframe tbody tr th {\n",
       "        vertical-align: top;\n",
       "    }\n",
       "\n",
       "    .dataframe thead th {\n",
       "        text-align: right;\n",
       "    }\n",
       "</style>\n",
       "<table border=\"1\" class=\"dataframe\">\n",
       "  <thead>\n",
       "    <tr style=\"text-align: right;\">\n",
       "      <th></th>\n",
       "      <th>Glucose</th>\n",
       "      <th>Cholesterol</th>\n",
       "      <th>Hemoglobin</th>\n",
       "      <th>Platelets</th>\n",
       "      <th>White Blood Cells</th>\n",
       "      <th>Red Blood Cells</th>\n",
       "      <th>Hematocrit</th>\n",
       "      <th>Mean Corpuscular Volume</th>\n",
       "      <th>Mean Corpuscular Hemoglobin</th>\n",
       "      <th>Mean Corpuscular Hemoglobin Concentration</th>\n",
       "      <th>...</th>\n",
       "      <th>Triglycerides</th>\n",
       "      <th>HbA1c</th>\n",
       "      <th>LDL Cholesterol</th>\n",
       "      <th>HDL Cholesterol</th>\n",
       "      <th>ALT</th>\n",
       "      <th>AST</th>\n",
       "      <th>Heart Rate</th>\n",
       "      <th>Creatinine</th>\n",
       "      <th>Troponin</th>\n",
       "      <th>C-reactive Protein</th>\n",
       "    </tr>\n",
       "  </thead>\n",
       "  <tbody>\n",
       "    <tr>\n",
       "      <th>count</th>\n",
       "      <td>486.000000</td>\n",
       "      <td>486.000000</td>\n",
       "      <td>486.000000</td>\n",
       "      <td>486.000000</td>\n",
       "      <td>486.000000</td>\n",
       "      <td>486.000000</td>\n",
       "      <td>486.000000</td>\n",
       "      <td>486.000000</td>\n",
       "      <td>486.000000</td>\n",
       "      <td>486.000000</td>\n",
       "      <td>...</td>\n",
       "      <td>486.000000</td>\n",
       "      <td>486.000000</td>\n",
       "      <td>486.000000</td>\n",
       "      <td>486.000000</td>\n",
       "      <td>486.000000</td>\n",
       "      <td>486.000000</td>\n",
       "      <td>486.000000</td>\n",
       "      <td>486.000000</td>\n",
       "      <td>486.000000</td>\n",
       "      <td>486.000000</td>\n",
       "    </tr>\n",
       "    <tr>\n",
       "      <th>mean</th>\n",
       "      <td>0.490044</td>\n",
       "      <td>0.506797</td>\n",
       "      <td>0.485502</td>\n",
       "      <td>0.528136</td>\n",
       "      <td>0.509783</td>\n",
       "      <td>0.504347</td>\n",
       "      <td>0.501042</td>\n",
       "      <td>0.516185</td>\n",
       "      <td>0.510145</td>\n",
       "      <td>0.501105</td>\n",
       "      <td>...</td>\n",
       "      <td>0.498538</td>\n",
       "      <td>0.489365</td>\n",
       "      <td>0.501706</td>\n",
       "      <td>0.487933</td>\n",
       "      <td>0.500615</td>\n",
       "      <td>0.499675</td>\n",
       "      <td>0.493794</td>\n",
       "      <td>0.515541</td>\n",
       "      <td>0.510077</td>\n",
       "      <td>0.517365</td>\n",
       "    </tr>\n",
       "    <tr>\n",
       "      <th>std</th>\n",
       "      <td>0.284196</td>\n",
       "      <td>0.282871</td>\n",
       "      <td>0.298818</td>\n",
       "      <td>0.292610</td>\n",
       "      <td>0.290887</td>\n",
       "      <td>0.302865</td>\n",
       "      <td>0.294501</td>\n",
       "      <td>0.279954</td>\n",
       "      <td>0.285213</td>\n",
       "      <td>0.290614</td>\n",
       "      <td>...</td>\n",
       "      <td>0.288848</td>\n",
       "      <td>0.290849</td>\n",
       "      <td>0.286729</td>\n",
       "      <td>0.292726</td>\n",
       "      <td>0.285374</td>\n",
       "      <td>0.301451</td>\n",
       "      <td>0.292400</td>\n",
       "      <td>0.287223</td>\n",
       "      <td>0.294011</td>\n",
       "      <td>0.291645</td>\n",
       "    </tr>\n",
       "    <tr>\n",
       "      <th>min</th>\n",
       "      <td>0.001827</td>\n",
       "      <td>0.003088</td>\n",
       "      <td>0.000719</td>\n",
       "      <td>0.000006</td>\n",
       "      <td>-0.000206</td>\n",
       "      <td>0.000552</td>\n",
       "      <td>0.004556</td>\n",
       "      <td>0.000309</td>\n",
       "      <td>-0.000614</td>\n",
       "      <td>0.000719</td>\n",
       "      <td>...</td>\n",
       "      <td>0.001885</td>\n",
       "      <td>-0.000991</td>\n",
       "      <td>0.001036</td>\n",
       "      <td>-0.000546</td>\n",
       "      <td>-0.000312</td>\n",
       "      <td>0.002047</td>\n",
       "      <td>0.002145</td>\n",
       "      <td>0.008831</td>\n",
       "      <td>0.005714</td>\n",
       "      <td>-0.000991</td>\n",
       "    </tr>\n",
       "    <tr>\n",
       "      <th>25%</th>\n",
       "      <td>0.236664</td>\n",
       "      <td>0.268021</td>\n",
       "      <td>0.201994</td>\n",
       "      <td>0.276155</td>\n",
       "      <td>0.264944</td>\n",
       "      <td>0.218573</td>\n",
       "      <td>0.246255</td>\n",
       "      <td>0.287755</td>\n",
       "      <td>0.259967</td>\n",
       "      <td>0.255839</td>\n",
       "      <td>...</td>\n",
       "      <td>0.238772</td>\n",
       "      <td>0.239302</td>\n",
       "      <td>0.262516</td>\n",
       "      <td>0.229095</td>\n",
       "      <td>0.251076</td>\n",
       "      <td>0.239369</td>\n",
       "      <td>0.228581</td>\n",
       "      <td>0.262924</td>\n",
       "      <td>0.267101</td>\n",
       "      <td>0.263192</td>\n",
       "    </tr>\n",
       "    <tr>\n",
       "      <th>50%</th>\n",
       "      <td>0.496471</td>\n",
       "      <td>0.502397</td>\n",
       "      <td>0.477706</td>\n",
       "      <td>0.538642</td>\n",
       "      <td>0.511102</td>\n",
       "      <td>0.518103</td>\n",
       "      <td>0.496275</td>\n",
       "      <td>0.533319</td>\n",
       "      <td>0.498332</td>\n",
       "      <td>0.493929</td>\n",
       "      <td>...</td>\n",
       "      <td>0.503164</td>\n",
       "      <td>0.481549</td>\n",
       "      <td>0.511373</td>\n",
       "      <td>0.481533</td>\n",
       "      <td>0.515321</td>\n",
       "      <td>0.497846</td>\n",
       "      <td>0.507581</td>\n",
       "      <td>0.526299</td>\n",
       "      <td>0.508479</td>\n",
       "      <td>0.546542</td>\n",
       "    </tr>\n",
       "    <tr>\n",
       "      <th>75%</th>\n",
       "      <td>0.727144</td>\n",
       "      <td>0.754638</td>\n",
       "      <td>0.750028</td>\n",
       "      <td>0.789486</td>\n",
       "      <td>0.767896</td>\n",
       "      <td>0.768466</td>\n",
       "      <td>0.761107</td>\n",
       "      <td>0.746765</td>\n",
       "      <td>0.761956</td>\n",
       "      <td>0.734817</td>\n",
       "      <td>...</td>\n",
       "      <td>0.749527</td>\n",
       "      <td>0.725472</td>\n",
       "      <td>0.756136</td>\n",
       "      <td>0.741867</td>\n",
       "      <td>0.739248</td>\n",
       "      <td>0.775458</td>\n",
       "      <td>0.751124</td>\n",
       "      <td>0.777839</td>\n",
       "      <td>0.781128</td>\n",
       "      <td>0.776940</td>\n",
       "    </tr>\n",
       "    <tr>\n",
       "      <th>max</th>\n",
       "      <td>0.991742</td>\n",
       "      <td>0.999606</td>\n",
       "      <td>0.997876</td>\n",
       "      <td>0.999507</td>\n",
       "      <td>0.999646</td>\n",
       "      <td>0.997267</td>\n",
       "      <td>1.000857</td>\n",
       "      <td>0.996362</td>\n",
       "      <td>0.999234</td>\n",
       "      <td>0.999666</td>\n",
       "      <td>...</td>\n",
       "      <td>0.999826</td>\n",
       "      <td>0.999265</td>\n",
       "      <td>0.999567</td>\n",
       "      <td>1.000744</td>\n",
       "      <td>1.000326</td>\n",
       "      <td>1.000402</td>\n",
       "      <td>0.999857</td>\n",
       "      <td>0.999348</td>\n",
       "      <td>1.000125</td>\n",
       "      <td>0.999488</td>\n",
       "    </tr>\n",
       "  </tbody>\n",
       "</table>\n",
       "<p>8 rows × 24 columns</p>\n",
       "</div>"
      ],
      "text/plain": [
       "          Glucose  Cholesterol  Hemoglobin   Platelets  White Blood Cells  \\\n",
       "count  486.000000   486.000000  486.000000  486.000000         486.000000   \n",
       "mean     0.490044     0.506797    0.485502    0.528136           0.509783   \n",
       "std      0.284196     0.282871    0.298818    0.292610           0.290887   \n",
       "min      0.001827     0.003088    0.000719    0.000006          -0.000206   \n",
       "25%      0.236664     0.268021    0.201994    0.276155           0.264944   \n",
       "50%      0.496471     0.502397    0.477706    0.538642           0.511102   \n",
       "75%      0.727144     0.754638    0.750028    0.789486           0.767896   \n",
       "max      0.991742     0.999606    0.997876    0.999507           0.999646   \n",
       "\n",
       "       Red Blood Cells  Hematocrit  Mean Corpuscular Volume  \\\n",
       "count       486.000000  486.000000               486.000000   \n",
       "mean          0.504347    0.501042                 0.516185   \n",
       "std           0.302865    0.294501                 0.279954   \n",
       "min           0.000552    0.004556                 0.000309   \n",
       "25%           0.218573    0.246255                 0.287755   \n",
       "50%           0.518103    0.496275                 0.533319   \n",
       "75%           0.768466    0.761107                 0.746765   \n",
       "max           0.997267    1.000857                 0.996362   \n",
       "\n",
       "       Mean Corpuscular Hemoglobin  Mean Corpuscular Hemoglobin Concentration  \\\n",
       "count                   486.000000                                 486.000000   \n",
       "mean                      0.510145                                   0.501105   \n",
       "std                       0.285213                                   0.290614   \n",
       "min                      -0.000614                                   0.000719   \n",
       "25%                       0.259967                                   0.255839   \n",
       "50%                       0.498332                                   0.493929   \n",
       "75%                       0.761956                                   0.734817   \n",
       "max                       0.999234                                   0.999666   \n",
       "\n",
       "       ...  Triglycerides       HbA1c  LDL Cholesterol  HDL Cholesterol  \\\n",
       "count  ...     486.000000  486.000000       486.000000       486.000000   \n",
       "mean   ...       0.498538    0.489365         0.501706         0.487933   \n",
       "std    ...       0.288848    0.290849         0.286729         0.292726   \n",
       "min    ...       0.001885   -0.000991         0.001036        -0.000546   \n",
       "25%    ...       0.238772    0.239302         0.262516         0.229095   \n",
       "50%    ...       0.503164    0.481549         0.511373         0.481533   \n",
       "75%    ...       0.749527    0.725472         0.756136         0.741867   \n",
       "max    ...       0.999826    0.999265         0.999567         1.000744   \n",
       "\n",
       "              ALT         AST  Heart Rate  Creatinine    Troponin  \\\n",
       "count  486.000000  486.000000  486.000000  486.000000  486.000000   \n",
       "mean     0.500615    0.499675    0.493794    0.515541    0.510077   \n",
       "std      0.285374    0.301451    0.292400    0.287223    0.294011   \n",
       "min     -0.000312    0.002047    0.002145    0.008831    0.005714   \n",
       "25%      0.251076    0.239369    0.228581    0.262924    0.267101   \n",
       "50%      0.515321    0.497846    0.507581    0.526299    0.508479   \n",
       "75%      0.739248    0.775458    0.751124    0.777839    0.781128   \n",
       "max      1.000326    1.000402    0.999857    0.999348    1.000125   \n",
       "\n",
       "       C-reactive Protein  \n",
       "count          486.000000  \n",
       "mean             0.517365  \n",
       "std              0.291645  \n",
       "min             -0.000991  \n",
       "25%              0.263192  \n",
       "50%              0.546542  \n",
       "75%              0.776940  \n",
       "max              0.999488  \n",
       "\n",
       "[8 rows x 24 columns]"
      ]
     },
     "execution_count": 39,
     "metadata": {},
     "output_type": "execute_result"
    }
   ],
   "source": [
    "train_data.describe()\n",
    "test_data.describe()"
   ]
  },
  {
   "cell_type": "markdown",
   "id": "a5dd476a",
   "metadata": {},
   "source": [
    "# Train And Test"
   ]
  },
  {
   "cell_type": "code",
   "execution_count": 40,
   "id": "83fc33cb",
   "metadata": {},
   "outputs": [],
   "source": [
    "# FS\n",
    "selected_features = ['Glucose', 'Cholesterol', 'Hemoglobin', 'Platelets', 'White Blood Cells',\n",
    "                     'Red Blood Cells', 'Hematocrit', 'Mean Corpuscular Volume', \n",
    "                     'Mean Corpuscular Hemoglobin', 'Mean Corpuscular Hemoglobin Concentration', \n",
    "                     'Insulin', 'BMI', 'Systolic Blood Pressure', 'Diastolic Blood Pressure', \n",
    "                     'Triglycerides', 'HbA1c', 'LDL Cholesterol', 'HDL Cholesterol', 'ALT', 'AST', \n",
    "                     'Heart Rate', 'Creatinine', 'Troponin', 'C-reactive Protein']\n"
   ]
  },
  {
   "cell_type": "code",
   "execution_count": 41,
   "id": "0d7cb909",
   "metadata": {},
   "outputs": [],
   "source": [
    "missing_features_train = [feature for feature in selected_features if feature not in train_data.columns]\n",
    "missing_features_test = [feature for feature in selected_features if feature not in test_data.columns]\n",
    "\n",
    "if missing_features_train:\n",
    "    print(\"Error: Some selected features are not present in the training dataset:\", missing_features_train)\n",
    "elif missing_features_test:\n",
    "    print(\"Error: Some selected features are not present in the testing dataset:\", missing_features_test)\n",
    "else:\n",
    "    X_train = train_data[selected_features]\n",
    "    y_train = train_data['Disease']\n",
    "    X_test = test_data[selected_features]\n",
    "    y_test = test_data['Disease']\n"
   ]
  },
  {
   "cell_type": "code",
   "execution_count": 42,
   "id": "8e21eb75",
   "metadata": {},
   "outputs": [],
   "source": [
    "# Normalize the features\n",
    "scaler = StandardScaler()\n",
    "X_train = scaler.fit_transform(X_train)\n",
    "X_test = scaler.transform(X_test)"
   ]
  },
  {
   "cell_type": "code",
   "execution_count": 43,
   "id": "5db4dbd0",
   "metadata": {},
   "outputs": [
    {
     "data": {
      "text/html": [
       "<style>#sk-container-id-3 {color: black;background-color: white;}#sk-container-id-3 pre{padding: 0;}#sk-container-id-3 div.sk-toggleable {background-color: white;}#sk-container-id-3 label.sk-toggleable__label {cursor: pointer;display: block;width: 100%;margin-bottom: 0;padding: 0.3em;box-sizing: border-box;text-align: center;}#sk-container-id-3 label.sk-toggleable__label-arrow:before {content: \"▸\";float: left;margin-right: 0.25em;color: #696969;}#sk-container-id-3 label.sk-toggleable__label-arrow:hover:before {color: black;}#sk-container-id-3 div.sk-estimator:hover label.sk-toggleable__label-arrow:before {color: black;}#sk-container-id-3 div.sk-toggleable__content {max-height: 0;max-width: 0;overflow: hidden;text-align: left;background-color: #f0f8ff;}#sk-container-id-3 div.sk-toggleable__content pre {margin: 0.2em;color: black;border-radius: 0.25em;background-color: #f0f8ff;}#sk-container-id-3 input.sk-toggleable__control:checked~div.sk-toggleable__content {max-height: 200px;max-width: 100%;overflow: auto;}#sk-container-id-3 input.sk-toggleable__control:checked~label.sk-toggleable__label-arrow:before {content: \"▾\";}#sk-container-id-3 div.sk-estimator input.sk-toggleable__control:checked~label.sk-toggleable__label {background-color: #d4ebff;}#sk-container-id-3 div.sk-label input.sk-toggleable__control:checked~label.sk-toggleable__label {background-color: #d4ebff;}#sk-container-id-3 input.sk-hidden--visually {border: 0;clip: rect(1px 1px 1px 1px);clip: rect(1px, 1px, 1px, 1px);height: 1px;margin: -1px;overflow: hidden;padding: 0;position: absolute;width: 1px;}#sk-container-id-3 div.sk-estimator {font-family: monospace;background-color: #f0f8ff;border: 1px dotted black;border-radius: 0.25em;box-sizing: border-box;margin-bottom: 0.5em;}#sk-container-id-3 div.sk-estimator:hover {background-color: #d4ebff;}#sk-container-id-3 div.sk-parallel-item::after {content: \"\";width: 100%;border-bottom: 1px solid gray;flex-grow: 1;}#sk-container-id-3 div.sk-label:hover label.sk-toggleable__label {background-color: #d4ebff;}#sk-container-id-3 div.sk-serial::before {content: \"\";position: absolute;border-left: 1px solid gray;box-sizing: border-box;top: 0;bottom: 0;left: 50%;z-index: 0;}#sk-container-id-3 div.sk-serial {display: flex;flex-direction: column;align-items: center;background-color: white;padding-right: 0.2em;padding-left: 0.2em;position: relative;}#sk-container-id-3 div.sk-item {position: relative;z-index: 1;}#sk-container-id-3 div.sk-parallel {display: flex;align-items: stretch;justify-content: center;background-color: white;position: relative;}#sk-container-id-3 div.sk-item::before, #sk-container-id-3 div.sk-parallel-item::before {content: \"\";position: absolute;border-left: 1px solid gray;box-sizing: border-box;top: 0;bottom: 0;left: 50%;z-index: -1;}#sk-container-id-3 div.sk-parallel-item {display: flex;flex-direction: column;z-index: 1;position: relative;background-color: white;}#sk-container-id-3 div.sk-parallel-item:first-child::after {align-self: flex-end;width: 50%;}#sk-container-id-3 div.sk-parallel-item:last-child::after {align-self: flex-start;width: 50%;}#sk-container-id-3 div.sk-parallel-item:only-child::after {width: 0;}#sk-container-id-3 div.sk-dashed-wrapped {border: 1px dashed gray;margin: 0 0.4em 0.5em 0.4em;box-sizing: border-box;padding-bottom: 0.4em;background-color: white;}#sk-container-id-3 div.sk-label label {font-family: monospace;font-weight: bold;display: inline-block;line-height: 1.2em;}#sk-container-id-3 div.sk-label-container {text-align: center;}#sk-container-id-3 div.sk-container {/* jupyter's `normalize.less` sets `[hidden] { display: none; }` but bootstrap.min.css set `[hidden] { display: none !important; }` so we also need the `!important` here to be able to override the default hidden behavior on the sphinx rendered scikit-learn.org. See: https://github.com/scikit-learn/scikit-learn/issues/21755 */display: inline-block !important;position: relative;}#sk-container-id-3 div.sk-text-repr-fallback {display: none;}</style><div id=\"sk-container-id-3\" class=\"sk-top-container\"><div class=\"sk-text-repr-fallback\"><pre>LabelEncoder()</pre><b>In a Jupyter environment, please rerun this cell to show the HTML representation or trust the notebook. <br />On GitHub, the HTML representation is unable to render, please try loading this page with nbviewer.org.</b></div><div class=\"sk-container\" hidden><div class=\"sk-item\"><div class=\"sk-estimator sk-toggleable\"><input class=\"sk-toggleable__control sk-hidden--visually\" id=\"sk-estimator-id-3\" type=\"checkbox\" checked><label for=\"sk-estimator-id-3\" class=\"sk-toggleable__label sk-toggleable__label-arrow\">LabelEncoder</label><div class=\"sk-toggleable__content\"><pre>LabelEncoder()</pre></div></div></div></div></div>"
      ],
      "text/plain": [
       "LabelEncoder()"
      ]
     },
     "execution_count": 43,
     "metadata": {},
     "output_type": "execute_result"
    }
   ],
   "source": [
    "all_labels = pd.concat([y_train, y_test], axis=0)\n",
    "label_encoder = LabelEncoder()\n",
    "label_encoder.fit(all_labels)"
   ]
  },
  {
   "cell_type": "code",
   "execution_count": 44,
   "id": "a836c065",
   "metadata": {},
   "outputs": [],
   "source": [
    "y_train = label_encoder.transform(y_train)\n",
    "y_test = label_encoder.transform(y_test)"
   ]
  },
  {
   "cell_type": "code",
   "execution_count": 45,
   "id": "a396a38e",
   "metadata": {},
   "outputs": [],
   "source": [
    "y_train = y_train.astype('float32')\n",
    "y_test = y_test.astype('float32')"
   ]
  },
  {
   "cell_type": "markdown",
   "id": "27316c50",
   "metadata": {},
   "source": [
    "# Neural Model"
   ]
  },
  {
   "cell_type": "code",
   "execution_count": null,
   "id": "2d4a7acc",
   "metadata": {},
   "outputs": [],
   "source": [
    "model = Sequential()\n",
    "model.add(Dense(16, input_dim=len(selected_features), activation='relu'))\n",
    "model.add(Dense(8, activation='relu'))\n",
    "model.add(Dense(1, activation='sigmoid'))"
   ]
  },
  {
   "cell_type": "code",
   "execution_count": 47,
   "id": "e62341f4",
   "metadata": {},
   "outputs": [
    {
     "name": "stdout",
     "output_type": "stream",
     "text": [
      "Epoch 1/42\n",
      "\u001b[1m236/236\u001b[0m \u001b[32m━━━━━━━━━━━━━━━━━━━━\u001b[0m\u001b[37m\u001b[0m \u001b[1m2s\u001b[0m 4ms/step - accuracy: 0.2313 - loss: -0.7127 - val_accuracy: 0.6049 - val_loss: -4.1479\n",
      "Epoch 2/42\n",
      "\u001b[1m236/236\u001b[0m \u001b[32m━━━━━━━━━━━━━━━━━━━━\u001b[0m\u001b[37m\u001b[0m \u001b[1m0s\u001b[0m 1ms/step - accuracy: 0.2346 - loss: -20.6969 - val_accuracy: 0.6049 - val_loss: -31.4666\n",
      "Epoch 3/42\n",
      "\u001b[1m236/236\u001b[0m \u001b[32m━━━━━━━━━━━━━━━━━━━━\u001b[0m\u001b[37m\u001b[0m \u001b[1m0s\u001b[0m 1ms/step - accuracy: 0.2453 - loss: -129.7990 - val_accuracy: 0.6070 - val_loss: -111.7567\n",
      "Epoch 4/42\n",
      "\u001b[1m236/236\u001b[0m \u001b[32m━━━━━━━━━━━━━━━━━━━━\u001b[0m\u001b[37m\u001b[0m \u001b[1m0s\u001b[0m 1ms/step - accuracy: 0.3076 - loss: -410.8592 - val_accuracy: 0.6091 - val_loss: -270.4413\n",
      "Epoch 5/42\n",
      "\u001b[1m236/236\u001b[0m \u001b[32m━━━━━━━━━━━━━━━━━━━━\u001b[0m\u001b[37m\u001b[0m \u001b[1m0s\u001b[0m 1ms/step - accuracy: 0.3363 - loss: -940.7827 - val_accuracy: 0.6070 - val_loss: -520.5179\n",
      "Epoch 6/42\n",
      "\u001b[1m236/236\u001b[0m \u001b[32m━━━━━━━━━━━━━━━━━━━━\u001b[0m\u001b[37m\u001b[0m \u001b[1m0s\u001b[0m 1ms/step - accuracy: 0.3428 - loss: -1745.1353 - val_accuracy: 0.6049 - val_loss: -881.8149\n",
      "Epoch 7/42\n",
      "\u001b[1m236/236\u001b[0m \u001b[32m━━━━━━━━━━━━━━━━━━━━\u001b[0m\u001b[37m\u001b[0m \u001b[1m0s\u001b[0m 1ms/step - accuracy: 0.3295 - loss: -2913.9016 - val_accuracy: 0.6008 - val_loss: -1353.5544\n",
      "Epoch 8/42\n",
      "\u001b[1m236/236\u001b[0m \u001b[32m━━━━━━━━━━━━━━━━━━━━\u001b[0m\u001b[37m\u001b[0m \u001b[1m0s\u001b[0m 1ms/step - accuracy: 0.3495 - loss: -4534.7412 - val_accuracy: 0.6008 - val_loss: -1940.5073\n",
      "Epoch 9/42\n",
      "\u001b[1m236/236\u001b[0m \u001b[32m━━━━━━━━━━━━━━━━━━━━\u001b[0m\u001b[37m\u001b[0m \u001b[1m0s\u001b[0m 1ms/step - accuracy: 0.3530 - loss: -6211.7671 - val_accuracy: 0.6008 - val_loss: -2651.7690\n",
      "Epoch 10/42\n",
      "\u001b[1m236/236\u001b[0m \u001b[32m━━━━━━━━━━━━━━━━━━━━\u001b[0m\u001b[37m\u001b[0m \u001b[1m0s\u001b[0m 1ms/step - accuracy: 0.3451 - loss: -8750.8662 - val_accuracy: 0.6008 - val_loss: -3511.3982\n",
      "Epoch 11/42\n",
      "\u001b[1m236/236\u001b[0m \u001b[32m━━━━━━━━━━━━━━━━━━━━\u001b[0m\u001b[37m\u001b[0m \u001b[1m0s\u001b[0m 1ms/step - accuracy: 0.3568 - loss: -10922.1025 - val_accuracy: 0.6008 - val_loss: -4515.0908\n",
      "Epoch 12/42\n",
      "\u001b[1m236/236\u001b[0m \u001b[32m━━━━━━━━━━━━━━━━━━━━\u001b[0m\u001b[37m\u001b[0m \u001b[1m0s\u001b[0m 1ms/step - accuracy: 0.3549 - loss: -13993.1787 - val_accuracy: 0.6029 - val_loss: -5681.1611\n",
      "Epoch 13/42\n",
      "\u001b[1m236/236\u001b[0m \u001b[32m━━━━━━━━━━━━━━━━━━━━\u001b[0m\u001b[37m\u001b[0m \u001b[1m0s\u001b[0m 1ms/step - accuracy: 0.3517 - loss: -18191.3965 - val_accuracy: 0.6029 - val_loss: -6989.7041\n",
      "Epoch 14/42\n",
      "\u001b[1m236/236\u001b[0m \u001b[32m━━━━━━━━━━━━━━━━━━━━\u001b[0m\u001b[37m\u001b[0m \u001b[1m0s\u001b[0m 1ms/step - accuracy: 0.3591 - loss: -20129.8848 - val_accuracy: 0.6029 - val_loss: -8458.4941\n",
      "Epoch 15/42\n",
      "\u001b[1m236/236\u001b[0m \u001b[32m━━━━━━━━━━━━━━━━━━━━\u001b[0m\u001b[37m\u001b[0m \u001b[1m0s\u001b[0m 1ms/step - accuracy: 0.3452 - loss: -26393.8711 - val_accuracy: 0.6029 - val_loss: -10088.4727\n",
      "Epoch 16/42\n",
      "\u001b[1m236/236\u001b[0m \u001b[32m━━━━━━━━━━━━━━━━━━━━\u001b[0m\u001b[37m\u001b[0m \u001b[1m0s\u001b[0m 1ms/step - accuracy: 0.3391 - loss: -32704.3984 - val_accuracy: 0.6029 - val_loss: -11886.8027\n",
      "Epoch 17/42\n",
      "\u001b[1m236/236\u001b[0m \u001b[32m━━━━━━━━━━━━━━━━━━━━\u001b[0m\u001b[37m\u001b[0m \u001b[1m0s\u001b[0m 2ms/step - accuracy: 0.3598 - loss: -35261.8555 - val_accuracy: 0.6029 - val_loss: -13862.0830\n",
      "Epoch 18/42\n",
      "\u001b[1m236/236\u001b[0m \u001b[32m━━━━━━━━━━━━━━━━━━━━\u001b[0m\u001b[37m\u001b[0m \u001b[1m0s\u001b[0m 1ms/step - accuracy: 0.3553 - loss: -40565.8633 - val_accuracy: 0.6029 - val_loss: -16004.5879\n",
      "Epoch 19/42\n",
      "\u001b[1m236/236\u001b[0m \u001b[32m━━━━━━━━━━━━━━━━━━━━\u001b[0m\u001b[37m\u001b[0m \u001b[1m0s\u001b[0m 1ms/step - accuracy: 0.3574 - loss: -46976.3789 - val_accuracy: 0.6008 - val_loss: -18303.9512\n",
      "Epoch 20/42\n",
      "\u001b[1m236/236\u001b[0m \u001b[32m━━━━━━━━━━━━━━━━━━━━\u001b[0m\u001b[37m\u001b[0m \u001b[1m0s\u001b[0m 2ms/step - accuracy: 0.3578 - loss: -56082.6289 - val_accuracy: 0.6008 - val_loss: -20805.5840\n",
      "Epoch 21/42\n",
      "\u001b[1m236/236\u001b[0m \u001b[32m━━━━━━━━━━━━━━━━━━━━\u001b[0m\u001b[37m\u001b[0m \u001b[1m0s\u001b[0m 1ms/step - accuracy: 0.3670 - loss: -65485.1016 - val_accuracy: 0.6008 - val_loss: -23473.9941\n",
      "Epoch 22/42\n",
      "\u001b[1m236/236\u001b[0m \u001b[32m━━━━━━━━━━━━━━━━━━━━\u001b[0m\u001b[37m\u001b[0m \u001b[1m0s\u001b[0m 1ms/step - accuracy: 0.3681 - loss: -73354.6953 - val_accuracy: 0.5967 - val_loss: -26363.4941\n",
      "Epoch 23/42\n",
      "\u001b[1m236/236\u001b[0m \u001b[32m━━━━━━━━━━━━━━━━━━━━\u001b[0m\u001b[37m\u001b[0m \u001b[1m0s\u001b[0m 1ms/step - accuracy: 0.3639 - loss: -76944.2656 - val_accuracy: 0.5947 - val_loss: -29411.6680\n",
      "Epoch 24/42\n",
      "\u001b[1m236/236\u001b[0m \u001b[32m━━━━━━━━━━━━━━━━━━━━\u001b[0m\u001b[37m\u001b[0m \u001b[1m0s\u001b[0m 1ms/step - accuracy: 0.3724 - loss: -90776.6797 - val_accuracy: 0.5947 - val_loss: -32672.9980\n",
      "Epoch 25/42\n",
      "\u001b[1m236/236\u001b[0m \u001b[32m━━━━━━━━━━━━━━━━━━━━\u001b[0m\u001b[37m\u001b[0m \u001b[1m0s\u001b[0m 2ms/step - accuracy: 0.3561 - loss: -97418.4688 - val_accuracy: 0.5947 - val_loss: -36147.7734\n",
      "Epoch 26/42\n",
      "\u001b[1m236/236\u001b[0m \u001b[32m━━━━━━━━━━━━━━━━━━━━\u001b[0m\u001b[37m\u001b[0m \u001b[1m0s\u001b[0m 1ms/step - accuracy: 0.3614 - loss: -103469.2500 - val_accuracy: 0.5967 - val_loss: -39775.1562\n",
      "Epoch 27/42\n",
      "\u001b[1m236/236\u001b[0m \u001b[32m━━━━━━━━━━━━━━━━━━━━\u001b[0m\u001b[37m\u001b[0m \u001b[1m0s\u001b[0m 1ms/step - accuracy: 0.3476 - loss: -124326.7578 - val_accuracy: 0.5967 - val_loss: -43622.6875\n",
      "Epoch 28/42\n",
      "\u001b[1m236/236\u001b[0m \u001b[32m━━━━━━━━━━━━━━━━━━━━\u001b[0m\u001b[37m\u001b[0m \u001b[1m0s\u001b[0m 1ms/step - accuracy: 0.3653 - loss: -124535.7812 - val_accuracy: 0.5988 - val_loss: -47622.6328\n",
      "Epoch 29/42\n",
      "\u001b[1m236/236\u001b[0m \u001b[32m━━━━━━━━━━━━━━━━━━━━\u001b[0m\u001b[37m\u001b[0m \u001b[1m0s\u001b[0m 1ms/step - accuracy: 0.3532 - loss: -146424.2500 - val_accuracy: 0.5967 - val_loss: -51809.4727\n",
      "Epoch 30/42\n",
      "\u001b[1m236/236\u001b[0m \u001b[32m━━━━━━━━━━━━━━━━━━━━\u001b[0m\u001b[37m\u001b[0m \u001b[1m0s\u001b[0m 1ms/step - accuracy: 0.3658 - loss: -152935.3906 - val_accuracy: 0.5988 - val_loss: -56280.4609\n",
      "Epoch 31/42\n",
      "\u001b[1m236/236\u001b[0m \u001b[32m━━━━━━━━━━━━━━━━━━━━\u001b[0m\u001b[37m\u001b[0m \u001b[1m0s\u001b[0m 1ms/step - accuracy: 0.3631 - loss: -162710.1875 - val_accuracy: 0.5988 - val_loss: -60998.2422\n",
      "Epoch 32/42\n",
      "\u001b[1m236/236\u001b[0m \u001b[32m━━━━━━━━━━━━━━━━━━━━\u001b[0m\u001b[37m\u001b[0m \u001b[1m0s\u001b[0m 1ms/step - accuracy: 0.3444 - loss: -186270.7188 - val_accuracy: 0.5988 - val_loss: -65869.1250\n",
      "Epoch 33/42\n",
      "\u001b[1m236/236\u001b[0m \u001b[32m━━━━━━━━━━━━━━━━━━━━\u001b[0m\u001b[37m\u001b[0m \u001b[1m0s\u001b[0m 1ms/step - accuracy: 0.3530 - loss: -196827.5156 - val_accuracy: 0.6008 - val_loss: -70928.2891\n",
      "Epoch 34/42\n",
      "\u001b[1m236/236\u001b[0m \u001b[32m━━━━━━━━━━━━━━━━━━━━\u001b[0m\u001b[37m\u001b[0m \u001b[1m0s\u001b[0m 2ms/step - accuracy: 0.3668 - loss: -219424.1094 - val_accuracy: 0.6008 - val_loss: -76230.6797\n",
      "Epoch 35/42\n",
      "\u001b[1m236/236\u001b[0m \u001b[32m━━━━━━━━━━━━━━━━━━━━\u001b[0m\u001b[37m\u001b[0m \u001b[1m0s\u001b[0m 1ms/step - accuracy: 0.3623 - loss: -234347.7344 - val_accuracy: 0.5988 - val_loss: -81813.2578\n",
      "Epoch 36/42\n",
      "\u001b[1m236/236\u001b[0m \u001b[32m━━━━━━━━━━━━━━━━━━━━\u001b[0m\u001b[37m\u001b[0m \u001b[1m0s\u001b[0m 1ms/step - accuracy: 0.3497 - loss: -251105.1094 - val_accuracy: 0.5988 - val_loss: -87653.2734\n",
      "Epoch 37/42\n",
      "\u001b[1m236/236\u001b[0m \u001b[32m━━━━━━━━━━━━━━━━━━━━\u001b[0m\u001b[37m\u001b[0m \u001b[1m0s\u001b[0m 1ms/step - accuracy: 0.3583 - loss: -281440.0000 - val_accuracy: 0.5988 - val_loss: -93716.1094\n",
      "Epoch 38/42\n",
      "\u001b[1m236/236\u001b[0m \u001b[32m━━━━━━━━━━━━━━━━━━━━\u001b[0m\u001b[37m\u001b[0m \u001b[1m0s\u001b[0m 1ms/step - accuracy: 0.3666 - loss: -274699.0625 - val_accuracy: 0.5988 - val_loss: -100080.8125\n",
      "Epoch 39/42\n",
      "\u001b[1m236/236\u001b[0m \u001b[32m━━━━━━━━━━━━━━━━━━━━\u001b[0m\u001b[37m\u001b[0m \u001b[1m0s\u001b[0m 1ms/step - accuracy: 0.3573 - loss: -277024.2812 - val_accuracy: 0.5988 - val_loss: -106662.0156\n",
      "Epoch 40/42\n",
      "\u001b[1m236/236\u001b[0m \u001b[32m━━━━━━━━━━━━━━━━━━━━\u001b[0m\u001b[37m\u001b[0m \u001b[1m0s\u001b[0m 1ms/step - accuracy: 0.3709 - loss: -314808.0312 - val_accuracy: 0.6008 - val_loss: -113587.9688\n",
      "Epoch 41/42\n",
      "\u001b[1m236/236\u001b[0m \u001b[32m━━━━━━━━━━━━━━━━━━━━\u001b[0m\u001b[37m\u001b[0m \u001b[1m0s\u001b[0m 1ms/step - accuracy: 0.3481 - loss: -350151.6250 - val_accuracy: 0.6008 - val_loss: -120628.0312\n",
      "Epoch 42/42\n",
      "\u001b[1m236/236\u001b[0m \u001b[32m━━━━━━━━━━━━━━━━━━━━\u001b[0m\u001b[37m\u001b[0m \u001b[1m0s\u001b[0m 1ms/step - accuracy: 0.3382 - loss: -384442.0938 - val_accuracy: 0.6008 - val_loss: -128008.7500\n"
     ]
    },
    {
     "data": {
      "text/plain": [
       "<keras.src.callbacks.history.History at 0x2496f9e8710>"
      ]
     },
     "execution_count": 47,
     "metadata": {},
     "output_type": "execute_result"
    }
   ],
   "source": [
    "# Compile the model\n",
    "model.compile(loss='binary_crossentropy', optimizer='adam', metrics=['accuracy'])\n",
    "\n",
    "# Train the model\n",
    "model.fit(X_train, y_train, epochs=42, batch_size=10, validation_data=(X_test, y_test))"
   ]
  },
  {
   "cell_type": "code",
   "execution_count": 73,
   "id": "5202285d",
   "metadata": {},
   "outputs": [
    {
     "name": "stdout",
     "output_type": "stream",
     "text": [
      "\u001b[1m16/16\u001b[0m \u001b[32m━━━━━━━━━━━━━━━━━━━━\u001b[0m\u001b[37m\u001b[0m \u001b[1m0s\u001b[0m 999us/step\n"
     ]
    }
   ],
   "source": [
    "# Predict on the test set\n",
    "y_pred_prob = model.predict(X_test)\n",
    "y_pred = (y_pred_prob >0.1).astype(int)"
   ]
  },
  {
   "cell_type": "markdown",
   "id": "4d293f86",
   "metadata": {},
   "source": [
    "# Evaluate model performance"
   ]
  },
  {
   "cell_type": "code",
   "execution_count": 74,
   "id": "79c273bb",
   "metadata": {},
   "outputs": [],
   "source": [
    "accuracy = accuracy_score(y_test, y_pred)\n",
    "precision = precision_score(y_test, y_pred, zero_division=1, average='weighted')\n",
    "recall = recall_score(y_test, y_pred, average='weighted')\n",
    "f1 = f1_score(y_test, y_pred, average='weighted')"
   ]
  },
  {
   "cell_type": "code",
   "execution_count": null,
   "id": "0ac9b46c",
   "metadata": {},
   "outputs": [],
   "source": [
    "# Print evaluation metrics\n",
    "print(\"Accuracy:\", accuracy)\n",
    "print(\"Precision:\", precision)\n",
    "print(\"Recall:\", recall)\n",
    "print(\"F1-score:\", f1)"
   ]
  },
  {
   "cell_type": "markdown",
   "id": "13636b1c",
   "metadata": {},
   "source": [
    "# visualization"
   ]
  },
  {
   "cell_type": "code",
   "execution_count": 77,
   "id": "c840d518",
   "metadata": {},
   "outputs": [
    {
     "data": {
      "image/png": "[encoded data removed]",
      "text/plain": [
       "<Figure size 1000x700 with 1 Axes>"
      ]
     },
     "metadata": {},
     "output_type": "display_data"
    }
   ],
   "source": [
    "# data\n",
    "metrics = ['Accuracy', 'Precision', 'Recall', 'F1-score']\n",
    "scores = [accuracy, precision, recall, f1]\n",
    "plt.figure(figsize=(10, 7))\n",
    "plt.bar(metrics, scores, color=[(0.1, 0.2, 0.5), (0.7, 0.3, 0.2), (0.5, 0.1, 0.9), (0.2, 0.8, 0.1)])\n",
    "plt.xlabel('Metrics')\n",
    "plt.ylabel('Score')\n",
    "plt.title('Model Performance Metrics')\n",
    "plt.ylim(0, 1)  \n",
    "plt.show()"
   ]
  },
  {
   "cell_type": "code",
   "execution_count": 78,
   "id": "8ecaa2e6",
   "metadata": {},
   "outputs": [
    {
     "data": {
      "image/png": "[encoded data removed]",
      "text/plain": [
       "<Figure size 1000x600 with 1 Axes>"
      ]
     },
     "metadata": {},
     "output_type": "display_data"
    }
   ],
   "source": [
    "# Calculate confusion matrix\n",
    "conf_matrix = confusion_matrix(y_test, y_pred)\n",
    "plt.figure(figsize=(10, 6))\n",
    "sns.heatmap(conf_matrix, annot=True, fmt='d', cmap='Purples', cbar=False)\n",
    "plt.xlabel('Predicted Labels')\n",
    "plt.ylabel('True Labels')\n",
    "plt.title('Confusion Matrix')\n",
    "plt.show()\n"
   ]
  },
  {
   "cell_type": "code",
   "execution_count": null,
   "id": "eae74444",
   "metadata": {},
   "outputs": [],
   "source": []
  }
 ],
 "metadata": {
  "kernelspec": {
   "display_name": "Python 3 (ipykernel)",
   "language": "python",
   "name": "python3"
  },
  "language_info": {
   "codemirror_mode": {
    "name": "ipython",
    "version": 3
   },
   "file_extension": ".py",
   "mimetype": "text/x-python",
   "name": "python",
   "nbconvert_exporter": "python",
   "pygments_lexer": "ipython3",
   "version": "3.11.7"
  }
 },
 "nbformat": 4,
 "nbformat_minor": 5
}
